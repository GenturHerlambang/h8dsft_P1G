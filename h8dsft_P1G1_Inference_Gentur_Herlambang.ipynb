{
 "cells": [
  {
   "attachments": {},
   "cell_type": "markdown",
   "metadata": {},
   "source": [
    "Import Libraries"
   ]
  },
  {
   "cell_type": "code",
   "execution_count": 1,
   "metadata": {},
   "outputs": [],
   "source": [
    "import pickle\n",
    "import json\n",
    "import pandas as pd\n",
    "import numpy as np\n"
   ]
  },
  {
   "attachments": {},
   "cell_type": "markdown",
   "metadata": {},
   "source": [
    "Memanggil Model yg sudah di save"
   ]
  },
  {
   "cell_type": "code",
   "execution_count": 2,
   "metadata": {},
   "outputs": [],
   "source": [
    "with open('model_lin_reg.pkl', 'rb') as file_1:\n",
    "  model_lin_reg = pickle.load(file_1)\n",
    "\n",
    "\n",
    "with open('model_encoder.pkl', 'rb') as file_2:\n",
    "  model_encoder = pickle.load(file_2)\n",
    "\n",
    "with open('list_num_cols.txt', 'r') as file_3:\n",
    "  list_num_cols = json.load(file_3)\n",
    "\n",
    "with open('list_cat_cols.txt', 'r') as file_4:\n",
    "  list_cat_cols = json.load(file_4)"
   ]
  },
  {
   "attachments": {},
   "cell_type": "markdown",
   "metadata": {},
   "source": [
    "Membuat dan memasukan entry baru untuk di test "
   ]
  },
  {
   "cell_type": "code",
   "execution_count": 4,
   "metadata": {},
   "outputs": [
    {
     "data": {
      "text/html": [
       "<div>\n",
       "<style scoped>\n",
       "    .dataframe tbody tr th:only-of-type {\n",
       "        vertical-align: middle;\n",
       "    }\n",
       "\n",
       "    .dataframe tbody tr th {\n",
       "        vertical-align: top;\n",
       "    }\n",
       "\n",
       "    .dataframe thead th {\n",
       "        text-align: right;\n",
       "    }\n",
       "</style>\n",
       "<table border=\"1\" class=\"dataframe\">\n",
       "  <thead>\n",
       "    <tr style=\"text-align: right;\">\n",
       "      <th></th>\n",
       "      <th>id</th>\n",
       "      <th>timestamp</th>\n",
       "      <th>hour</th>\n",
       "      <th>day</th>\n",
       "      <th>month</th>\n",
       "      <th>datetime</th>\n",
       "      <th>timezone</th>\n",
       "      <th>source</th>\n",
       "      <th>destination</th>\n",
       "      <th>surge_multiplier</th>\n",
       "      <th>...</th>\n",
       "      <th>precipIntensityMax</th>\n",
       "      <th>uvIndexTime</th>\n",
       "      <th>temperatureMin</th>\n",
       "      <th>temperatureMinTime</th>\n",
       "      <th>temperatureMax</th>\n",
       "      <th>temperatureMaxTime</th>\n",
       "      <th>apparentTemperatureMin</th>\n",
       "      <th>apparentTemperatureMinTime</th>\n",
       "      <th>apparentTemperatureMax</th>\n",
       "      <th>apparentTemperatureMaxTime</th>\n",
       "    </tr>\n",
       "  </thead>\n",
       "  <tbody>\n",
       "    <tr>\n",
       "      <th>0</th>\n",
       "      <td>5b21cd69-43fb-4a1d-a42e-8b3eb54c0634566jg</td>\n",
       "      <td>1543732386.987</td>\n",
       "      <td>3</td>\n",
       "      <td>17</td>\n",
       "      <td>11</td>\n",
       "      <td>2018-12-01 08:1:09</td>\n",
       "      <td>America/New_York</td>\n",
       "      <td>North End</td>\n",
       "      <td>North Station</td>\n",
       "      <td>1</td>\n",
       "      <td>...</td>\n",
       "      <td>1543770000</td>\n",
       "      <td>3</td>\n",
       "      <td>36.1</td>\n",
       "      <td>1543726800</td>\n",
       "      <td>50.37</td>\n",
       "      <td>1543784400</td>\n",
       "      <td>38.88</td>\n",
       "      <td>1543748400</td>\n",
       "      <td>50</td>\n",
       "      <td>1543784400</td>\n",
       "    </tr>\n",
       "  </tbody>\n",
       "</table>\n",
       "<p>1 rows × 51 columns</p>\n",
       "</div>"
      ],
      "text/plain": [
       "                                        id         timestamp  hour     day  \\\n",
       "0  5b21cd69-43fb-4a1d-a42e-8b3eb54c0634566jg  1543732386.987        3   17   \n",
       "\n",
       "   month           datetime         timezone       source   destination    \\\n",
       "0     11  2018-12-01 08:1:09  America/New_York  North End   North Station   \n",
       "\n",
       "   surge_multiplier  ... precipIntensityMax uvIndexTime   temperatureMin   \\\n",
       "0                 1  ...         1543770000            3             36.1   \n",
       "\n",
       "   temperatureMinTime    temperatureMax    temperatureMaxTime   \\\n",
       "0            1543726800             50.37           1543784400   \n",
       "\n",
       "   apparentTemperatureMin apparentTemperatureMinTime     \\\n",
       "0                   38.88                    1543748400   \n",
       "\n",
       "  apparentTemperatureMax  apparentTemperatureMaxTime   \n",
       "0                     50                   1543784400  \n",
       "\n",
       "[1 rows x 51 columns]"
      ]
     },
     "execution_count": 4,
     "metadata": {},
     "output_type": "execute_result"
    }
   ],
   "source": [
    "data_inf = {\n",
    "    'id  ': '5b21cd69-43fb-4a1d-a42e-8b3eb54c0634566jg', \n",
    "    'timestamp': '1543732386.987', \n",
    "    'hour   ': 3, \n",
    "    'day' : 17,\n",
    "    'month': 11,\n",
    "    'datetime ': '2018-12-01 08:1:09', \n",
    "    'timezone  ': 'America/New_York', \n",
    "    'source':  'North End', \n",
    "    'destination  ' : ' North Station',\n",
    "    'surge_multiplier': 1,\n",
    "    'cab_type': 'Lyft', \n",
    "    'name': 'Lyft XL', \n",
    "    'distance': 3, \n",
    "    'latitude ' : 42.3505,\n",
    "    'longitude': -71.1054,\n",
    "    'temperature':  37.96, \n",
    "    'apparentTemperature':  37.96, \n",
    "    'short_summary ': ' Overcast ', \n",
    "    'long_summary ' : 'Light rain until evening',\n",
    "    'precipIntensity': 0,\n",
    "    'precipProbability  ': 0, \n",
    "    'humidity ': 0.9, \n",
    "    'windSpeed  ': 3, \n",
    "    'windGust' : 4.5,\n",
    "    'windGustTime  ': 1543755700,\n",
    "    'visibility': 7.6, \n",
    "    'temperatureHigh':45 , \n",
    "    'temperatureHighTime ': 1543784400, \n",
    "    'temperatureLow' : 44.79,\n",
    "    'temperatureLowTime': 1543816800,\n",
    "    'icon ': 'cloudy', \n",
    "    'dewPoint ': 38, \n",
    "    'pressure ': 1011.23, \n",
    "    'windBearing  ' :  135,\n",
    "    'cloudCover ': 1.9,\n",
    "    'uvIndex  ': 0, \n",
    "    'visibility.1':  9.706, \n",
    "    'ozone': 269.6, \n",
    "    'sunriseTime' :  1543751804,\n",
    "    'sunsetTime ':  1543785248,\n",
    "    'moonPhase': 0.86, \n",
    "    'precipIntensityMax': 1543770000, \n",
    "    'uvIndexTime ': 3, \n",
    "    'temperatureMin ' :  36.1,\n",
    "    'temperatureMinTime  ':  1543726800,\n",
    "    'temperatureMax  ': 50.37, \n",
    "    'temperatureMaxTime ': 1543784400, \n",
    "    'apparentTemperatureMin': 38.88, \n",
    "    'apparentTemperatureMinTime   ' : 1543748400,\n",
    "    'apparentTemperatureMax': 50,\n",
    "    'apparentTemperatureMaxTime ': 1543784400,\n",
    "    \n",
    "}\n",
    "data_inf = pd.DataFrame([data_inf])\n",
    "data_inf "
   ]
  },
  {
   "attachments": {},
   "cell_type": "markdown",
   "metadata": {},
   "source": [
    "Split Data"
   ]
  },
  {
   "cell_type": "code",
   "execution_count": 5,
   "metadata": {},
   "outputs": [
    {
     "data": {
      "text/html": [
       "<div>\n",
       "<style scoped>\n",
       "    .dataframe tbody tr th:only-of-type {\n",
       "        vertical-align: middle;\n",
       "    }\n",
       "\n",
       "    .dataframe tbody tr th {\n",
       "        vertical-align: top;\n",
       "    }\n",
       "\n",
       "    .dataframe thead th {\n",
       "        text-align: right;\n",
       "    }\n",
       "</style>\n",
       "<table border=\"1\" class=\"dataframe\">\n",
       "  <thead>\n",
       "    <tr style=\"text-align: right;\">\n",
       "      <th></th>\n",
       "      <th>distance</th>\n",
       "      <th>surge_multiplier</th>\n",
       "    </tr>\n",
       "  </thead>\n",
       "  <tbody>\n",
       "    <tr>\n",
       "      <th>0</th>\n",
       "      <td>3</td>\n",
       "      <td>1</td>\n",
       "    </tr>\n",
       "  </tbody>\n",
       "</table>\n",
       "</div>"
      ],
      "text/plain": [
       "   distance  surge_multiplier\n",
       "0         3                 1"
      ]
     },
     "execution_count": 5,
     "metadata": {},
     "output_type": "execute_result"
    }
   ],
   "source": [
    "data_inf_num = data_inf[list_num_cols]\n",
    "data_inf_cat = data_inf[list_cat_cols]\n",
    "data_inf_num"
   ]
  },
  {
   "attachments": {},
   "cell_type": "markdown",
   "metadata": {},
   "source": [
    "Scaling dan Encoding data kemudian di gabungkan "
   ]
  },
  {
   "cell_type": "code",
   "execution_count": 6,
   "metadata": {},
   "outputs": [],
   "source": [
    "data_inf_cat_encoded = model_encoder.transform(data_inf_cat)\n",
    "data_inf_final = np.concatenate([data_inf_num, data_inf_cat_encoded], axis=1)"
   ]
  },
  {
   "attachments": {},
   "cell_type": "markdown",
   "metadata": {},
   "source": [
    "Memasukan data kepada model yang ada , untuk di lihat prediksi nya"
   ]
  },
  {
   "cell_type": "code",
   "execution_count": 7,
   "metadata": {},
   "outputs": [
    {
     "data": {
      "text/plain": [
       "array([16.92614746])"
      ]
     },
     "execution_count": 7,
     "metadata": {},
     "output_type": "execute_result"
    }
   ],
   "source": [
    "y_pred_inf = model_lin_reg.predict(data_inf_final)\n",
    "y_pred_inf\n"
   ]
  },
  {
   "attachments": {},
   "cell_type": "markdown",
   "metadata": {},
   "source": [
    "Jadi prediksi harga input yang di atas adalah $16.9 "
   ]
  }
 ],
 "metadata": {
  "kernelspec": {
   "display_name": "Python 3",
   "language": "python",
   "name": "python3"
  },
  "language_info": {
   "codemirror_mode": {
    "name": "ipython",
    "version": 3
   },
   "file_extension": ".py",
   "mimetype": "text/x-python",
   "name": "python",
   "nbconvert_exporter": "python",
   "pygments_lexer": "ipython3",
   "version": "3.11.0 (main, Oct 24 2022, 18:26:48) [MSC v.1933 64 bit (AMD64)]"
  },
  "orig_nbformat": 4,
  "vscode": {
   "interpreter": {
    "hash": "0d9b526ae9ca16dcf5f6e38c1826129686c1db41a3497e609d57bbacdeefff6c"
   }
  }
 },
 "nbformat": 4,
 "nbformat_minor": 2
}
